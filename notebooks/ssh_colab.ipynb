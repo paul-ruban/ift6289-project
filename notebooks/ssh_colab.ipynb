{
 "cells": [
  {
   "cell_type": "markdown",
   "metadata": {},
   "source": [
    "## Mount Drive"
   ]
  },
  {
   "cell_type": "code",
   "execution_count": null,
   "metadata": {},
   "outputs": [],
   "source": [
    "from google.colab import drive\n",
    "drive.mount('/content/gdrive')"
   ]
  },
  {
   "cell_type": "code",
   "execution_count": null,
   "metadata": {},
   "outputs": [],
   "source": [
    "import os\n",
    "import json\n",
    "#@title Colab-ssh tunnel\n",
    "#@markdown Execute this cell to open the ssh tunnel. Check [colab-ssh documentation](https://github.com/WassimBenzarti/colab-ssh) for more details.\n",
    "\n",
    "# Install colab_ssh on google colab\n",
    "!pip install colab_ssh --upgrade -q\n",
    "\n",
    "from colab_ssh import launch_ssh_cloudflared, init_git_cloudflared\n",
    "ssh_tunnel_password = \"1234\" #@param {type: \"string\"}\n",
    "launch_ssh_cloudflared(password=ssh_tunnel_password)\n",
    "\n",
    "# Make sure to change the path to your own file\n",
    "gdrive_path = \"/content/gdrive/MyDrive\"\n",
    "git_config_file = \"git_config.json\" #@param {type: \"string\"}\n",
    "git_config_file = os.path.join(gdrive_path, git_config_file)\n",
    "\n",
    "branch_name = \"distillation\" #@param {type: \"string\"}\n",
    "\n",
    "with open(git_config_file) as f:\n",
    "    git_config = json.load(f)\n",
    "\n",
    "init_git_cloudflared(\n",
    "    \"https://github.com/paul-ruban/ift6289-project.git\",\n",
    "    personal_token=git_config[\"personal_token\"],\n",
    "    branch=branch_name,\n",
    "    email=git_config[\"email\"],\n",
    "    username=git_config[\"username\"]\n",
    ")\n",
    "\n",
    "% cd /content/ift6289-project\n",
    "!source installation.sh"
   ]
  },
  {
   "cell_type": "code",
   "execution_count": null,
   "metadata": {},
   "outputs": [],
   "source": [
    "while True:\n",
    "    pass"
   ]
  }
 ],
 "metadata": {
  "interpreter": {
   "hash": "3ce7b97eabb619f464137ab4d69e7399803864b74e24a0071c12a9659f369d47"
  },
  "kernelspec": {
   "display_name": "Python 3.9.7 ('ift6289-project')",
   "language": "python",
   "name": "python3"
  },
  "language_info": {
   "name": "python",
   "version": "3.9.7"
  },
  "orig_nbformat": 4
 },
 "nbformat": 4,
 "nbformat_minor": 2
}
