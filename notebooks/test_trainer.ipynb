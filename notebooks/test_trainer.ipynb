{
 "cells": [
  {
   "cell_type": "code",
   "execution_count": null,
   "metadata": {},
   "outputs": [],
   "source": [
    "import sys\n",
    "sys.path.append(\"../\")\n",
    "from functools import partial\n",
    "from src.trainer import SQUADTrainer\n",
    "from src.data import preprocess_function\n",
    "from datasets import load_dataset\n",
    "from transformers import (\n",
    "    TrainingArguments, \n",
    "    AutoModelForQuestionAnswering,\n",
    "    AutoTokenizer\n",
    ")"
   ]
  },
  {
   "cell_type": "code",
   "execution_count": null,
   "metadata": {},
   "outputs": [],
   "source": [
    "student_model_path = \"../pretrained_models/distilbert-base-uncased\"\n",
    "teacher_model_path = \"../pretrained_models/distilbert-base-uncased-distilled-squad\"\n",
    "output_dir = \"../logs\""
   ]
  },
  {
   "cell_type": "code",
   "execution_count": null,
   "metadata": {},
   "outputs": [],
   "source": [
    "tokenizer = AutoTokenizer.from_pretrained(student_model_path)\n",
    "model = AutoModelForQuestionAnswering.from_pretrained(student_model_path)\n",
    "teacher_model = AutoModelForQuestionAnswering.from_pretrained(teacher_model_path)\n",
    "\n",
    "squad = load_dataset(\"../data/from_hf/squad\")"
   ]
  },
  {
   "cell_type": "code",
   "execution_count": null,
   "metadata": {},
   "outputs": [],
   "source": [
    "tokenized_squad = squad.map(\n",
    "    partial(preprocess_function, tokenizer=tokenizer),\n",
    "    batched=True,\n",
    "    remove_columns=squad[\"train\"].column_names\n",
    ")\n",
    "\n",
    "training_args = TrainingArguments(\n",
    "    output_dir=output_dir,\n",
    "    evaluation_strategy=\"steps\",\n",
    "    logging_steps=100,\n",
    "    learning_rate=2e-5,\n",
    "    per_device_train_batch_size=16,\n",
    "    per_device_eval_batch_size=16,\n",
    "    num_train_epochs=3,\n",
    "    weight_decay=0.01,\n",
    "    disable_tqdm=True,\n",
    "    # fp16=True # use with GPU only\n",
    ")\n",
    "\n",
    "trainer = SQUADTrainer(\n",
    "    model=model,\n",
    "    teacher_model=teacher_model,\n",
    "    args=training_args,\n",
    "    train_dataset=tokenized_squad[\"train\"],\n",
    "    eval_dataset=tokenized_squad[\"validation\"],\n",
    "    tokenizer=tokenizer\n",
    ")"
   ]
  },
  {
   "cell_type": "code",
   "execution_count": null,
   "metadata": {},
   "outputs": [],
   "source": [
    "trainer.train()"
   ]
  }
 ],
 "metadata": {
  "interpreter": {
   "hash": "3ce7b97eabb619f464137ab4d69e7399803864b74e24a0071c12a9659f369d47"
  },
  "kernelspec": {
   "display_name": "Python 3.9.7 ('ift6289-project')",
   "language": "python",
   "name": "python3"
  },
  "language_info": {
   "codemirror_mode": {
    "name": "ipython",
    "version": 3
   },
   "file_extension": ".py",
   "mimetype": "text/x-python",
   "name": "python",
   "nbconvert_exporter": "python",
   "pygments_lexer": "ipython3",
   "version": "3.9.7"
  },
  "orig_nbformat": 4
 },
 "nbformat": 4,
 "nbformat_minor": 2
}
