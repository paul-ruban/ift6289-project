{
 "cells": [
  {
   "cell_type": "code",
   "execution_count": 19,
   "metadata": {},
   "outputs": [],
   "source": [
    "import sys\n",
    "import torch\n",
    "sys.path.append(\"../\")\n",
    "from functools import partial\n",
    "from datasets import load_dataset, load_metric\n",
    "from transformers import (\n",
    "    AutoConfig,\n",
    "    AutoModelForQuestionAnswering,\n",
    "    AutoTokenizer\n",
    ")"
   ]
  },
  {
   "cell_type": "code",
   "execution_count": 27,
   "metadata": {},
   "outputs": [
    {
     "ename": "RuntimeError",
     "evalue": "Error(s) in loading state_dict for BertForQuestionAnswering:\n\tMissing key(s) in state_dict: \"bert.encoder.layer.0.attention.self.query.weight\", \"bert.encoder.layer.0.attention.self.query.bias\", \"bert.encoder.layer.0.attention.self.key.weight\", \"bert.encoder.layer.0.attention.self.key.bias\", \"bert.encoder.layer.0.attention.self.value.weight\", \"bert.encoder.layer.0.attention.self.value.bias\", \"bert.encoder.layer.0.attention.output.dense.weight\", \"bert.encoder.layer.0.attention.output.dense.bias\", \"bert.encoder.layer.0.intermediate.dense.weight\", \"bert.encoder.layer.0.intermediate.dense.bias\", \"bert.encoder.layer.0.output.dense.weight\", \"bert.encoder.layer.0.output.dense.bias\", \"bert.encoder.layer.1.attention.self.query.weight\", \"bert.encoder.layer.1.attention.self.query.bias\", \"bert.encoder.layer.1.attention.self.key.weight\", \"bert.encoder.layer.1.attention.self.key.bias\", \"bert.encoder.layer.1.attention.self.value.weight\", \"bert.encoder.layer.1.attention.self.value.bias\", \"bert.encoder.layer.1.attention.output.dense.weight\", \"bert.encoder.layer.1.attention.output.dense.bias\", \"bert.encoder.layer.1.intermediate.dense.weight\", \"bert.encoder.layer.1.intermediate.dense.bias\", \"bert.encoder.layer.1.output.dense.weight\", \"bert.encoder.layer.1.output.dense.bias\", \"qa_outputs.weight\", \"qa_outputs.bias\". \n\tUnexpected key(s) in state_dict: \"bert.encoder.layer.0.attention.self.query.scale\", \"bert.encoder.layer.0.attention.self.query.zero_point\", \"bert.encoder.layer.0.attention.self.query._packed_params.dtype\", \"bert.encoder.layer.0.attention.self.query._packed_params._packed_params\", \"bert.encoder.layer.0.attention.self.key.scale\", \"bert.encoder.layer.0.attention.self.key.zero_point\", \"bert.encoder.layer.0.attention.self.key._packed_params.dtype\", \"bert.encoder.layer.0.attention.self.key._packed_params._packed_params\", \"bert.encoder.layer.0.attention.self.value.scale\", \"bert.encoder.layer.0.attention.self.value.zero_point\", \"bert.encoder.layer.0.attention.self.value._packed_params.dtype\", \"bert.encoder.layer.0.attention.self.value._packed_params._packed_params\", \"bert.encoder.layer.0.attention.output.dense.scale\", \"bert.encoder.layer.0.attention.output.dense.zero_point\", \"bert.encoder.layer.0.attention.output.dense._packed_params.dtype\", \"bert.encoder.layer.0.attention.output.dense._packed_params._packed_params\", \"bert.encoder.layer.0.intermediate.dense.scale\", \"bert.encoder.layer.0.intermediate.dense.zero_point\", \"bert.encoder.layer.0.intermediate.dense._packed_params.dtype\", \"bert.encoder.layer.0.intermediate.dense._packed_params._packed_params\", \"bert.encoder.layer.0.output.dense.scale\", \"bert.encoder.layer.0.output.dense.zero_point\", \"bert.encoder.layer.0.output.dense._packed_params.dtype\", \"bert.encoder.layer.0.output.dense._packed_params._packed_params\", \"bert.encoder.layer.1.attention.self.query.scale\", \"bert.encoder.layer.1.attention.self.query.zero_point\", \"bert.encoder.layer.1.attention.self.query._packed_params.dtype\", \"bert.encoder.layer.1.attention.self.query._packed_params._packed_params\", \"bert.encoder.layer.1.attention.self.key.scale\", \"bert.encoder.layer.1.attention.self.key.zero_point\", \"bert.encoder.layer.1.attention.self.key._packed_params.dtype\", \"bert.encoder.layer.1.attention.self.key._packed_params._packed_params\", \"bert.encoder.layer.1.attention.self.value.scale\", \"bert.encoder.layer.1.attention.self.value.zero_point\", \"bert.encoder.layer.1.attention.self.value._packed_params.dtype\", \"bert.encoder.layer.1.attention.self.value._packed_params._packed_params\", \"bert.encoder.layer.1.attention.output.dense.scale\", \"bert.encoder.layer.1.attention.output.dense.zero_point\", \"bert.encoder.layer.1.attention.output.dense._packed_params.dtype\", \"bert.encoder.layer.1.attention.output.dense._packed_params._packed_params\", \"bert.encoder.layer.1.intermediate.dense.scale\", \"bert.encoder.layer.1.intermediate.dense.zero_point\", \"bert.encoder.layer.1.intermediate.dense._packed_params.dtype\", \"bert.encoder.layer.1.intermediate.dense._packed_params._packed_params\", \"bert.encoder.layer.1.output.dense.scale\", \"bert.encoder.layer.1.output.dense.zero_point\", \"bert.encoder.layer.1.output.dense._packed_params.dtype\", \"bert.encoder.layer.1.output.dense._packed_params._packed_params\", \"qa_outputs.scale\", \"qa_outputs.zero_point\", \"qa_outputs._packed_params.dtype\", \"qa_outputs._packed_params._packed_params\". ",
     "output_type": "error",
     "traceback": [
      "\u001b[0;31m---------------------------------------------------------------------------\u001b[0m",
      "\u001b[0;31mRuntimeError\u001b[0m                              Traceback (most recent call last)",
      "\u001b[1;32m/home/pavlo/ift6289-project/notebooks/test_quantization.ipynb Cell 2'\u001b[0m in \u001b[0;36m<cell line: 5>\u001b[0;34m()\u001b[0m\n\u001b[1;32m      <a href='vscode-notebook-cell://wsl%2Bubuntu/home/pavlo/ift6289-project/notebooks/test_quantization.ipynb#ch0000001vscode-remote?line=1'>2</a>\u001b[0m config \u001b[39m=\u001b[39m AutoConfig\u001b[39m.\u001b[39mfrom_pretrained(os\u001b[39m.\u001b[39mpath\u001b[39m.\u001b[39mjoin(model_path, \u001b[39m\"\u001b[39m\u001b[39mconfig.json\u001b[39m\u001b[39m\"\u001b[39m))\n\u001b[1;32m      <a href='vscode-notebook-cell://wsl%2Bubuntu/home/pavlo/ift6289-project/notebooks/test_quantization.ipynb#ch0000001vscode-remote?line=2'>3</a>\u001b[0m model_quantized \u001b[39m=\u001b[39m AutoModelForQuestionAnswering\u001b[39m.\u001b[39mfrom_config(config)\n\u001b[0;32m----> <a href='vscode-notebook-cell://wsl%2Bubuntu/home/pavlo/ift6289-project/notebooks/test_quantization.ipynb#ch0000001vscode-remote?line=4'>5</a>\u001b[0m model_quantized\u001b[39m.\u001b[39;49mload_state_dict(\n\u001b[1;32m      <a href='vscode-notebook-cell://wsl%2Bubuntu/home/pavlo/ift6289-project/notebooks/test_quantization.ipynb#ch0000001vscode-remote?line=5'>6</a>\u001b[0m     torch\u001b[39m.\u001b[39;49mload(os\u001b[39m.\u001b[39;49mpath\u001b[39m.\u001b[39;49mjoin(model_path, \u001b[39m\"\u001b[39;49m\u001b[39mpytorch_model.bin\u001b[39;49m\u001b[39m\"\u001b[39;49m))\n\u001b[1;32m      <a href='vscode-notebook-cell://wsl%2Bubuntu/home/pavlo/ift6289-project/notebooks/test_quantization.ipynb#ch0000001vscode-remote?line=6'>7</a>\u001b[0m )\n",
      "File \u001b[0;32m~/miniconda3/envs/ift6289-project/lib/python3.9/site-packages/torch/nn/modules/module.py:1497\u001b[0m, in \u001b[0;36mModule.load_state_dict\u001b[0;34m(self, state_dict, strict)\u001b[0m\n\u001b[1;32m   <a href='file:///home/pavlo/miniconda3/envs/ift6289-project/lib/python3.9/site-packages/torch/nn/modules/module.py?line=1491'>1492</a>\u001b[0m         error_msgs\u001b[39m.\u001b[39minsert(\n\u001b[1;32m   <a href='file:///home/pavlo/miniconda3/envs/ift6289-project/lib/python3.9/site-packages/torch/nn/modules/module.py?line=1492'>1493</a>\u001b[0m             \u001b[39m0\u001b[39m, \u001b[39m'\u001b[39m\u001b[39mMissing key(s) in state_dict: \u001b[39m\u001b[39m{}\u001b[39;00m\u001b[39m. \u001b[39m\u001b[39m'\u001b[39m\u001b[39m.\u001b[39mformat(\n\u001b[1;32m   <a href='file:///home/pavlo/miniconda3/envs/ift6289-project/lib/python3.9/site-packages/torch/nn/modules/module.py?line=1493'>1494</a>\u001b[0m                 \u001b[39m'\u001b[39m\u001b[39m, \u001b[39m\u001b[39m'\u001b[39m\u001b[39m.\u001b[39mjoin(\u001b[39m'\u001b[39m\u001b[39m\"\u001b[39m\u001b[39m{}\u001b[39;00m\u001b[39m\"\u001b[39m\u001b[39m'\u001b[39m\u001b[39m.\u001b[39mformat(k) \u001b[39mfor\u001b[39;00m k \u001b[39min\u001b[39;00m missing_keys)))\n\u001b[1;32m   <a href='file:///home/pavlo/miniconda3/envs/ift6289-project/lib/python3.9/site-packages/torch/nn/modules/module.py?line=1495'>1496</a>\u001b[0m \u001b[39mif\u001b[39;00m \u001b[39mlen\u001b[39m(error_msgs) \u001b[39m>\u001b[39m \u001b[39m0\u001b[39m:\n\u001b[0;32m-> <a href='file:///home/pavlo/miniconda3/envs/ift6289-project/lib/python3.9/site-packages/torch/nn/modules/module.py?line=1496'>1497</a>\u001b[0m     \u001b[39mraise\u001b[39;00m \u001b[39mRuntimeError\u001b[39;00m(\u001b[39m'\u001b[39m\u001b[39mError(s) in loading state_dict for \u001b[39m\u001b[39m{}\u001b[39;00m\u001b[39m:\u001b[39m\u001b[39m\\n\u001b[39;00m\u001b[39m\\t\u001b[39;00m\u001b[39m{}\u001b[39;00m\u001b[39m'\u001b[39m\u001b[39m.\u001b[39mformat(\n\u001b[1;32m   <a href='file:///home/pavlo/miniconda3/envs/ift6289-project/lib/python3.9/site-packages/torch/nn/modules/module.py?line=1497'>1498</a>\u001b[0m                        \u001b[39mself\u001b[39m\u001b[39m.\u001b[39m\u001b[39m__class__\u001b[39m\u001b[39m.\u001b[39m\u001b[39m__name__\u001b[39m, \u001b[39m\"\u001b[39m\u001b[39m\\n\u001b[39;00m\u001b[39m\\t\u001b[39;00m\u001b[39m\"\u001b[39m\u001b[39m.\u001b[39mjoin(error_msgs)))\n\u001b[1;32m   <a href='file:///home/pavlo/miniconda3/envs/ift6289-project/lib/python3.9/site-packages/torch/nn/modules/module.py?line=1498'>1499</a>\u001b[0m \u001b[39mreturn\u001b[39;00m _IncompatibleKeys(missing_keys, unexpected_keys)\n",
      "\u001b[0;31mRuntimeError\u001b[0m: Error(s) in loading state_dict for BertForQuestionAnswering:\n\tMissing key(s) in state_dict: \"bert.encoder.layer.0.attention.self.query.weight\", \"bert.encoder.layer.0.attention.self.query.bias\", \"bert.encoder.layer.0.attention.self.key.weight\", \"bert.encoder.layer.0.attention.self.key.bias\", \"bert.encoder.layer.0.attention.self.value.weight\", \"bert.encoder.layer.0.attention.self.value.bias\", \"bert.encoder.layer.0.attention.output.dense.weight\", \"bert.encoder.layer.0.attention.output.dense.bias\", \"bert.encoder.layer.0.intermediate.dense.weight\", \"bert.encoder.layer.0.intermediate.dense.bias\", \"bert.encoder.layer.0.output.dense.weight\", \"bert.encoder.layer.0.output.dense.bias\", \"bert.encoder.layer.1.attention.self.query.weight\", \"bert.encoder.layer.1.attention.self.query.bias\", \"bert.encoder.layer.1.attention.self.key.weight\", \"bert.encoder.layer.1.attention.self.key.bias\", \"bert.encoder.layer.1.attention.self.value.weight\", \"bert.encoder.layer.1.attention.self.value.bias\", \"bert.encoder.layer.1.attention.output.dense.weight\", \"bert.encoder.layer.1.attention.output.dense.bias\", \"bert.encoder.layer.1.intermediate.dense.weight\", \"bert.encoder.layer.1.intermediate.dense.bias\", \"bert.encoder.layer.1.output.dense.weight\", \"bert.encoder.layer.1.output.dense.bias\", \"qa_outputs.weight\", \"qa_outputs.bias\". \n\tUnexpected key(s) in state_dict: \"bert.encoder.layer.0.attention.self.query.scale\", \"bert.encoder.layer.0.attention.self.query.zero_point\", \"bert.encoder.layer.0.attention.self.query._packed_params.dtype\", \"bert.encoder.layer.0.attention.self.query._packed_params._packed_params\", \"bert.encoder.layer.0.attention.self.key.scale\", \"bert.encoder.layer.0.attention.self.key.zero_point\", \"bert.encoder.layer.0.attention.self.key._packed_params.dtype\", \"bert.encoder.layer.0.attention.self.key._packed_params._packed_params\", \"bert.encoder.layer.0.attention.self.value.scale\", \"bert.encoder.layer.0.attention.self.value.zero_point\", \"bert.encoder.layer.0.attention.self.value._packed_params.dtype\", \"bert.encoder.layer.0.attention.self.value._packed_params._packed_params\", \"bert.encoder.layer.0.attention.output.dense.scale\", \"bert.encoder.layer.0.attention.output.dense.zero_point\", \"bert.encoder.layer.0.attention.output.dense._packed_params.dtype\", \"bert.encoder.layer.0.attention.output.dense._packed_params._packed_params\", \"bert.encoder.layer.0.intermediate.dense.scale\", \"bert.encoder.layer.0.intermediate.dense.zero_point\", \"bert.encoder.layer.0.intermediate.dense._packed_params.dtype\", \"bert.encoder.layer.0.intermediate.dense._packed_params._packed_params\", \"bert.encoder.layer.0.output.dense.scale\", \"bert.encoder.layer.0.output.dense.zero_point\", \"bert.encoder.layer.0.output.dense._packed_params.dtype\", \"bert.encoder.layer.0.output.dense._packed_params._packed_params\", \"bert.encoder.layer.1.attention.self.query.scale\", \"bert.encoder.layer.1.attention.self.query.zero_point\", \"bert.encoder.layer.1.attention.self.query._packed_params.dtype\", \"bert.encoder.layer.1.attention.self.query._packed_params._packed_params\", \"bert.encoder.layer.1.attention.self.key.scale\", \"bert.encoder.layer.1.attention.self.key.zero_point\", \"bert.encoder.layer.1.attention.self.key._packed_params.dtype\", \"bert.encoder.layer.1.attention.self.key._packed_params._packed_params\", \"bert.encoder.layer.1.attention.self.value.scale\", \"bert.encoder.layer.1.attention.self.value.zero_point\", \"bert.encoder.layer.1.attention.self.value._packed_params.dtype\", \"bert.encoder.layer.1.attention.self.value._packed_params._packed_params\", \"bert.encoder.layer.1.attention.output.dense.scale\", \"bert.encoder.layer.1.attention.output.dense.zero_point\", \"bert.encoder.layer.1.attention.output.dense._packed_params.dtype\", \"bert.encoder.layer.1.attention.output.dense._packed_params._packed_params\", \"bert.encoder.layer.1.intermediate.dense.scale\", \"bert.encoder.layer.1.intermediate.dense.zero_point\", \"bert.encoder.layer.1.intermediate.dense._packed_params.dtype\", \"bert.encoder.layer.1.intermediate.dense._packed_params._packed_params\", \"bert.encoder.layer.1.output.dense.scale\", \"bert.encoder.layer.1.output.dense.zero_point\", \"bert.encoder.layer.1.output.dense._packed_params.dtype\", \"bert.encoder.layer.1.output.dense._packed_params._packed_params\", \"qa_outputs.scale\", \"qa_outputs.zero_point\", \"qa_outputs._packed_params.dtype\", \"qa_outputs._packed_params._packed_params\". "
     ]
    }
   ],
   "source": [
    "model_path = \"/home/pavlo/bert_uncased_L-2_H-128_A-2-quantized/\"\n",
    "config = AutoConfig.from_pretrained(os.path.join(model_path, \"config.json\"))\n",
    "model_quantized = AutoModelForQuestionAnswering.from_config(config)\n",
    "\n",
    "model_quantized.load_state_dict(\n",
    "    torch.load(os.path.join(model_path, \"pytorch_model.bin\"))\n",
    ")\n"
   ]
  },
  {
   "cell_type": "code",
   "execution_count": 13,
   "metadata": {},
   "outputs": [],
   "source": [
    "torch.save(model_quantized.state_dict(), \"/home/pavlo/bert_uncased_L-2_H-128_A-2/pytorch_model_quantized.bin\")"
   ]
  },
  {
   "cell_type": "code",
   "execution_count": 12,
   "metadata": {},
   "outputs": [
    {
     "data": {
      "text/plain": [
       "<bound method Linear.weight of DynamicQuantizedLinear(in_features=128, out_features=128, dtype=torch.qint8, qscheme=torch.per_tensor_affine)>"
      ]
     },
     "execution_count": 12,
     "metadata": {},
     "output_type": "execute_result"
    }
   ],
   "source": [
    "model_quantized.bert.encoder.layer[0].attention.self.query.weight"
   ]
  },
  {
   "cell_type": "code",
   "execution_count": 14,
   "metadata": {},
   "outputs": [
    {
     "data": {
      "text/plain": [
       "['README.md',\n",
       " '.gitattributes',\n",
       " '.git',\n",
       " 'flax_model.msgpack',\n",
       " 'config.json',\n",
       " 'pytorch_model_quantized.bin',\n",
       " 'vocab.txt',\n",
       " 'pytorch_model.bin']"
      ]
     },
     "execution_count": 14,
     "metadata": {},
     "output_type": "execute_result"
    }
   ],
   "source": [
    "import os\n",
    "os.listdir(model_path)"
   ]
  }
 ],
 "metadata": {
  "interpreter": {
   "hash": "3ce7b97eabb619f464137ab4d69e7399803864b74e24a0071c12a9659f369d47"
  },
  "kernelspec": {
   "display_name": "Python 3.9.7 ('ift6289-project')",
   "language": "python",
   "name": "python3"
  },
  "language_info": {
   "codemirror_mode": {
    "name": "ipython",
    "version": 3
   },
   "file_extension": ".py",
   "mimetype": "text/x-python",
   "name": "python",
   "nbconvert_exporter": "python",
   "pygments_lexer": "ipython3",
   "version": "3.9.7"
  },
  "orig_nbformat": 4
 },
 "nbformat": 4,
 "nbformat_minor": 2
}
