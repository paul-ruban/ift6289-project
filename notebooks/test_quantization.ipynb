{
 "cells": [
  {
   "cell_type": "code",
   "execution_count": null,
   "metadata": {},
   "outputs": [],
   "source": [
    "import sys\n",
    "import torch\n",
    "sys.path.append(\"../\")\n",
    "from functools import partial\n",
    "from datasets import load_dataset, load_metric\n",
    "from transformers import (\n",
    "    AutoConfig,\n",
    "    AutoModelForQuestionAnswering,\n",
    "    AutoTokenizer\n",
    ")"
   ]
  },
  {
   "cell_type": "code",
   "execution_count": null,
   "metadata": {},
   "outputs": [],
   "source": [
    "model_path = \"/home/pavlo/bert_uncased_L-2_H-128_A-2/\"\n",
    "config = AutoConfig.from_pretrained(os.path.join(model_path, \"config.json\"))\n",
    "model = AutoModelForQuestionAnswering.from_config(config)\n",
    "\n",
    "model_quantized = torch.quantization.quantize_dynamic(model, dtype=torch.qint8)\n",
    "\n",
    "# model_quantized.load_state_dict(torch.load(\"/home/pavlo/bert_uncased_L-2_H-128_A-2-quantized/pytorch_model.bin\"))"
   ]
  },
  {
   "cell_type": "code",
   "execution_count": null,
   "metadata": {},
   "outputs": [],
   "source": [
    "x = model_quantized.load_state_dict(\n",
    "    torch.load(\n",
    "        \"/home/pavlo/bert_uncased_L-2_H-128_A-2-quantized/pytorch_model.bin\"\n",
    "    )\n",
    ")"
   ]
  },
  {
   "cell_type": "code",
   "execution_count": null,
   "metadata": {},
   "outputs": [],
   "source": [
    "str(x)"
   ]
  },
  {
   "cell_type": "code",
   "execution_count": null,
   "metadata": {},
   "outputs": [],
   "source": [
    "d = torch.load(\n",
    "        \"/home/pavlo/bert_uncased_L-2_H-128_A-2-quantized/pytorch_model.bin\"\n",
    "    )\n",
    "\n",
    "d[\"bert.encoder.layer.0.attention.self.query._packed_params._packed_params\"][0].qscheme()\n"
   ]
  },
  {
   "cell_type": "code",
   "execution_count": null,
   "metadata": {},
   "outputs": [],
   "source": [
    "model_quantized"
   ]
  },
  {
   "cell_type": "code",
   "execution_count": null,
   "metadata": {},
   "outputs": [],
   "source": [
    "torch.save(model_quantized.state_dict(), \"/home/pavlo/bert_uncased_L-2_H-128_A-2/pytorch_model_quantized.bin\")"
   ]
  },
  {
   "cell_type": "code",
   "execution_count": null,
   "metadata": {},
   "outputs": [],
   "source": [
    "model_quantized.bert.encoder.layer[0].attention.self.query.weight"
   ]
  },
  {
   "cell_type": "code",
   "execution_count": null,
   "metadata": {},
   "outputs": [],
   "source": [
    "import os\n",
    "os.listdir(model_path)"
   ]
  }
 ],
 "metadata": {
  "interpreter": {
   "hash": "3ce7b97eabb619f464137ab4d69e7399803864b74e24a0071c12a9659f369d47"
  },
  "kernelspec": {
   "display_name": "Python 3.9.7 ('ift6289-project')",
   "language": "python",
   "name": "python3"
  },
  "language_info": {
   "codemirror_mode": {
    "name": "ipython",
    "version": 3
   },
   "file_extension": ".py",
   "mimetype": "text/x-python",
   "name": "python",
   "nbconvert_exporter": "python",
   "pygments_lexer": "ipython3",
   "version": "3.9.7"
  },
  "orig_nbformat": 4
 },
 "nbformat": 4,
 "nbformat_minor": 2
}
