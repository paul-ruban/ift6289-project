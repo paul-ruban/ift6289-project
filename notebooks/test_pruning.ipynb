{
 "cells": [
  {
   "cell_type": "code",
   "execution_count": null,
   "metadata": {},
   "outputs": [],
   "source": [
    "import sys\n",
    "import torch\n",
    "sys.path.append(\"../\")\n",
    "from functools import partial\n",
    "from src.trainer import SQUADTrainer\n",
    "# from src.data import preprocess_function\n",
    "from datasets import load_dataset, load_metric\n",
    "from transformers import (\n",
    "    TrainingArguments, \n",
    "    AutoModelForQuestionAnswering,\n",
    "    AutoTokenizer\n",
    ")"
   ]
  },
  {
   "cell_type": "code",
   "execution_count": null,
   "metadata": {},
   "outputs": [],
   "source": [
    "x = torch.nn.Linear(10, 10)\n",
    "next(x.parameters()).device"
   ]
  },
  {
   "cell_type": "code",
   "execution_count": null,
   "metadata": {},
   "outputs": [],
   "source": [
    "lin = torch.nn.Linear(4, 4)\n",
    "x = torch.randn(2, 2, 4)\n",
    "\n",
    "# out = lin(x)\n",
    "# print(out)\n",
    "# print()\n",
    "# out = lin(x.reshape(4, 1, 1, 1, 4)).reshape(2, 2, 4)\n",
    "# print(out)\n",
    "\n",
    "torch.mean(**(torch.tensor([10]), torch.tensor([10])))"
   ]
  },
  {
   "cell_type": "code",
   "execution_count": null,
   "metadata": {},
   "outputs": [],
   "source": [
    "tokenizer = AutoTokenizer.from_pretrained(student_model_path)\n",
    "model = AutoModelForQuestionAnswering.from_pretrained(student_model_path)\n",
    "teacher_model = AutoModelForQuestionAnswering.from_pretrained(teacher_model_path)\n",
    "\n",
    "squad = load_dataset(\"../data/from_hf/squad\")"
   ]
  },
  {
   "cell_type": "code",
   "execution_count": null,
   "metadata": {},
   "outputs": [],
   "source": [
    "import os\n",
    "path = os.path.join(os.path.expanduser('~'), \"bert_uncased_L-2_H-128_A-2\")\n",
    "model = AutoModelForQuestionAnswering.from_pretrained(path)"
   ]
  },
  {
   "cell_type": "code",
   "execution_count": null,
   "metadata": {},
   "outputs": [],
   "source": [
    "squad[\"train\"][\"answers\"]"
   ]
  },
  {
   "cell_type": "code",
   "execution_count": null,
   "metadata": {},
   "outputs": [],
   "source": [
    "import collections\n",
    "collections.defaultdict(list)"
   ]
  },
  {
   "cell_type": "code",
   "execution_count": null,
   "metadata": {},
   "outputs": [],
   "source": [
    "tokenized_squad = squad.map(\n",
    "    partial(preprocess_function, tokenizer=tokenizer),\n",
    "    batched=True,\n",
    "    # remove_columns=squad[\"train\"].column_names\n",
    ")"
   ]
  },
  {
   "cell_type": "code",
   "execution_count": null,
   "metadata": {},
   "outputs": [],
   "source": [
    "import torch"
   ]
  },
  {
   "cell_type": "code",
   "execution_count": null,
   "metadata": {},
   "outputs": [],
   "source": [
    "tokenized_squad = squad.map(\n",
    "    partial(preprocess_function, tokenizer=tokenizer),\n",
    "    batched=True,\n",
    "    remove_columns=squad[\"train\"].column_names\n",
    ")\n",
    "\n",
    "training_args = TrainingArguments(\n",
    "    output_dir=output_dir,\n",
    "    evaluation_strategy=\"steps\",\n",
    "    logging_steps=50,\n",
    "    learning_rate=2e-5,\n",
    "    per_device_train_batch_size=16,\n",
    "    per_device_eval_batch_size=16,\n",
    "    num_train_epochs=0.1,\n",
    "    weight_decay=0.01,\n",
    "    disable_tqdm=True,\n",
    "    optim=\"adamw_torch\"\n",
    "    # fp16=True # use with GPU only\n",
    ")\n",
    "\n",
    "metric = load_metric(\"squad\")\n",
    "\n",
    "trainer = SQUADTrainer(\n",
    "    model=model,\n",
    "    teacher_model=None,\n",
    "    args=training_args,\n",
    "    train_dataset=tokenized_squad[\"train\"],\n",
    "    eval_dataset=tokenized_squad[\"validation\"],\n",
    "    tokenizer=tokenizer,\n",
    "    compute_metrics=lambda x: metric.compute(\n",
    "            predictions=x.predictions, \n",
    "            references=x.label_ids)\n",
    ")"
   ]
  },
  {
   "cell_type": "code",
   "execution_count": null,
   "metadata": {},
   "outputs": [],
   "source": [
    "trainer.train()"
   ]
  },
  {
   "cell_type": "code",
   "execution_count": null,
   "metadata": {},
   "outputs": [],
   "source": [
    "tokenized_squad[\"validation\"][:10]"
   ]
  }
 ],
 "metadata": {
  "interpreter": {
   "hash": "3ce7b97eabb619f464137ab4d69e7399803864b74e24a0071c12a9659f369d47"
  },
  "kernelspec": {
   "display_name": "Python 3.9.7 ('ift6289-project')",
   "language": "python",
   "name": "python3"
  },
  "language_info": {
   "codemirror_mode": {
    "name": "ipython",
    "version": 3
   },
   "file_extension": ".py",
   "mimetype": "text/x-python",
   "name": "python",
   "nbconvert_exporter": "python",
   "pygments_lexer": "ipython3",
   "version": "3.9.7"
  },
  "orig_nbformat": 4
 },
 "nbformat": 4,
 "nbformat_minor": 2
}
